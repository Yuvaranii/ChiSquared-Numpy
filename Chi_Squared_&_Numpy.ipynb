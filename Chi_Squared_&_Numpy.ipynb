{
  "nbformat": 4,
  "nbformat_minor": 0,
  "metadata": {
    "colab": {
      "provenance": [],
      "authorship_tag": "ABX9TyMBGZT2hoEXLByoOe8ZkJi7",
      "include_colab_link": true
    },
    "kernelspec": {
      "name": "python3",
      "display_name": "Python 3"
    },
    "language_info": {
      "name": "python"
    }
  },
  "cells": [
    {
      "cell_type": "markdown",
      "metadata": {
        "id": "view-in-github",
        "colab_type": "text"
      },
      "source": [
        "<a href=\"https://colab.research.google.com/github/Yuvaranii/ChiSquared-Numpy/blob/main/Chi_Squared_%26_Numpy.ipynb\" target=\"_parent\"><img src=\"https://colab.research.google.com/assets/colab-badge.svg\" alt=\"Open In Colab\"/></a>"
      ]
    },
    {
      "cell_type": "markdown",
      "source": [
        "Part-2\n",
        "\n",
        "Aim: Performing the Hypothesis testing using the Chi-squared test.\n",
        "The table below is a survey response to 4 categorical variables: people in categories from 18–29, 30–44, 45–64 and >65 years, \n",
        "and their movie genre inclination, which is “Action/Adventure”, “Romance” and “Biography”. \n",
        "Is there any evidence of a relationship between the age group and their movie genre inclination, at 5% significance level?\n",
        "       Action/Adventure Romance Biography Total \n",
        "18-29    141              68      4         213 \n",
        "30-44    179              159     7         345 \n",
        "45-64    220              216     4         440 \n",
        "65&older 86               101     4         191 \n",
        "Total    626              544     19        1189\n"
      ],
      "metadata": {
        "id": "U4c_lUTEwP70"
      }
    },
    {
      "cell_type": "code",
      "execution_count": 1,
      "metadata": {
        "colab": {
          "base_uri": "https://localhost:8080/"
        },
        "id": "Dm8LNG4Nubqm",
        "outputId": "db75747e-5621-4184-cd2f-fdf426f85851"
      },
      "outputs": [
        {
          "output_type": "stream",
          "name": "stdout",
          "text": [
            "p value is 0.00044690833914947634\n",
            "Dependent (Reject H0)\n"
          ]
        }
      ],
      "source": [
        "from scipy.stats import chi2_contingency\n",
        "  \n",
        "# defining the table\n",
        "Data = [[141, 68, 4], [179, 159, 7], [220,216,4], [86,101,4]]\n",
        "Calculated_ChiSq, p,  Degrees_of_Freedom, Expected_Values = chi2_contingency(Data)\n",
        "  \n",
        "# interpret p-value\n",
        "Alpha = 0.05\n",
        "print(\"p value is \" + str(p))\n",
        "if p >= Alpha:\n",
        "    print('Independent (H0 Holds True)') #No Co-relation\n",
        "else:\n",
        "    print('Dependent (Reject H0)') #Co-relation exists\n"
      ]
    },
    {
      "cell_type": "markdown",
      "source": [
        "Part-1\n",
        "\n",
        "Aim: Revisiting the numpy Details: One feature of NumPy that is powerful but tricky is the ability to perform broadcasting, which really just refers to repeatedly performing an operation over one or more dimensions. Tasks:\n",
        "\n",
        "The most basic kind of broadcast is with a scalar, in which you can perform a binary operation (e.g., add, multiply, ...) on an array and a scalar, the effect is to perform that operation with the scalar for every element of the array. To try this out, create a vector 1, 2, . . . , 10 by adding 1 to the result of the arange function.\n",
        "\n",
        "Now, create a 10 × 10 matrix A in which A[i][j] = i + j. You’ll be able to do this using the vector you just created, and adding it to a reshaped version of itself.\n",
        "\n",
        "A very common use of broadcasting is to standardize data, i.e., to make it have zero mean and unit variance. a. First, create a fake “data set” with 50 examples, each with five dimensions. b. import numpy.random as npr data = np.exp ( npr.randn(50, 5) ) c. Don’t worry too much about what this code is doing at this stage of the course, but for completeness: it imports the NumPy random number generation library, then generates a 50 × 5 matrix of standard normal random variates and exponentiates them. The effect of this is to have a pretend data set of 50 independent and identically-distributed vectors from a log-normal distribution.\n",
        "\n",
        "Now, compute the mean and standard deviation of each column. This should result in two vectors of length 5. You’ll need to think a little bit about how to use the axis argument to mean and std. Store these vectors into variables and print both of them.\n",
        "\n",
        "Now standardize the data matrix by 1) subtracting the mean off of each column, and 2) dividing each column by its standard deviation. Do this via broadcasting, and store the result in a matrix called normalized. To verify that you successfully did it, compute the mean and standard deviation of the columns of normalized and print them out."
      ],
      "metadata": {
        "id": "4cLaOuAwvrqG"
      }
    },
    {
      "cell_type": "code",
      "source": [
        "import numpy as np\n",
        "x=np.arange(1,11)\n",
        "x1=x+1\n",
        "print(x1)"
      ],
      "metadata": {
        "colab": {
          "base_uri": "https://localhost:8080/"
        },
        "id": "iNoRE6lLvtXO",
        "outputId": "538ffd8d-e403-448a-f1b6-a6b71b894787"
      },
      "execution_count": 4,
      "outputs": [
        {
          "output_type": "stream",
          "name": "stdout",
          "text": [
            "[ 2  3  4  5  6  7  8  9 10 11]\n"
          ]
        }
      ]
    },
    {
      "cell_type": "code",
      "source": [
        "m, n = 10,10\n",
        "A = np.empty(shape=(m, n), dtype=int)\n",
        "i, j = np.ogrid[:m, :n]\n",
        "A = i+j\n",
        "A"
      ],
      "metadata": {
        "colab": {
          "base_uri": "https://localhost:8080/"
        },
        "id": "pcsf93o6yC-Y",
        "outputId": "3fde8160-ff52-440d-a0eb-f5a7df5c1624"
      },
      "execution_count": 7,
      "outputs": [
        {
          "output_type": "execute_result",
          "data": {
            "text/plain": [
              "array([[ 0,  1,  2,  3,  4,  5,  6,  7,  8,  9],\n",
              "       [ 1,  2,  3,  4,  5,  6,  7,  8,  9, 10],\n",
              "       [ 2,  3,  4,  5,  6,  7,  8,  9, 10, 11],\n",
              "       [ 3,  4,  5,  6,  7,  8,  9, 10, 11, 12],\n",
              "       [ 4,  5,  6,  7,  8,  9, 10, 11, 12, 13],\n",
              "       [ 5,  6,  7,  8,  9, 10, 11, 12, 13, 14],\n",
              "       [ 6,  7,  8,  9, 10, 11, 12, 13, 14, 15],\n",
              "       [ 7,  8,  9, 10, 11, 12, 13, 14, 15, 16],\n",
              "       [ 8,  9, 10, 11, 12, 13, 14, 15, 16, 17],\n",
              "       [ 9, 10, 11, 12, 13, 14, 15, 16, 17, 18]])"
            ]
          },
          "metadata": {},
          "execution_count": 7
        }
      ]
    },
    {
      "cell_type": "code",
      "source": [
        "a = np.zeros((2, 512*512), dtype=np.float32)  \n",
        "a[1, :] = 1.0  \n",
        "a[0, :] = 0.1  \n",
        "print(a)"
      ],
      "metadata": {
        "colab": {
          "base_uri": "https://localhost:8080/"
        },
        "id": "5rPTwC0KyNjN",
        "outputId": "f7331817-4787-49c9-d403-6d3e42f37cc7"
      },
      "execution_count": 8,
      "outputs": [
        {
          "output_type": "stream",
          "name": "stdout",
          "text": [
            "[[0.1 0.1 0.1 ... 0.1 0.1 0.1]\n",
            " [1.  1.  1.  ... 1.  1.  1. ]]\n"
          ]
        }
      ]
    },
    {
      "cell_type": "code",
      "source": [
        "import numpy.random as npr\n",
        "data = np.exp ( npr.randn(50, 5) )\n",
        "b=np.std(data,axis=1)\n",
        "print(b)\n",
        "c=np.mean(data,axis=1)\n",
        "print(\"mean = \",c)"
      ],
      "metadata": {
        "colab": {
          "base_uri": "https://localhost:8080/"
        },
        "id": "raV8n94lyP9A",
        "outputId": "d8395122-0e67-41db-8f59-372bacad01d3"
      },
      "execution_count": 9,
      "outputs": [
        {
          "output_type": "stream",
          "name": "stdout",
          "text": [
            "[ 0.9999089   0.6817275   0.35433784  0.88653018  0.31105696  2.81802252\n",
            "  1.15166094  0.36892758  1.17294621  0.59846941  1.06050983  1.23284256\n",
            "  1.20929305  1.24817352  0.6646941   0.84056976  0.61692465  1.25650507\n",
            "  2.16176334  1.04920758  0.44756863  0.73812434  0.2337185   0.80097772\n",
            "  1.31670404  3.96094191  0.38259591  1.57069557  0.72589652  2.25699632\n",
            "  1.13932485  0.10198998  2.27738482  1.31021295  1.03553822  1.89228378\n",
            "  0.27797048  1.37608597  1.45522393  1.06898229 12.47941358  2.30990783\n",
            "  0.16247811  0.40623212  0.05392475  2.22203689  2.30172072  0.54785647\n",
            "  0.50434801  0.39966046]\n",
            "mean =  [1.6060245  0.82648512 0.9094969  1.94489367 0.83525027 3.39887839\n",
            " 1.33910728 1.66264601 1.69735069 1.42905729 1.66398594 1.49643603\n",
            " 1.71098401 1.13256296 1.10149039 2.08968706 0.9032659  1.74475561\n",
            " 1.63921835 1.58722966 0.53737798 1.08699254 0.49048265 1.06470355\n",
            " 1.07168282 2.83855164 1.12340621 1.45243676 1.24077342 2.03191012\n",
            " 1.50477664 0.36925952 1.74754616 1.66785365 1.45601324 2.21009513\n",
            " 0.62890037 2.45381913 1.80462574 1.31705441 8.04756303 2.12834299\n",
            " 0.45819175 0.81598931 0.62184315 3.05339096 1.65938707 1.52330689\n",
            " 1.00065822 0.72381407]\n"
          ]
        }
      ]
    }
  ]
}